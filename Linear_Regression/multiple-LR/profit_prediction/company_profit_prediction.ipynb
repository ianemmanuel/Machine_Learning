{
 "cells": [
  {
   "cell_type": "markdown",
   "id": "c2b3e2dd",
   "metadata": {},
   "source": [
    "### import libraries\n"
   ]
  },
  {
   "cell_type": "code",
   "execution_count": 37,
   "id": "10c16804",
   "metadata": {},
   "outputs": [],
   "source": [
    "import numpy as np\n",
    "import matplotlib.pyplot as plt\n",
    "import pandas as pd \n",
    "import seaborn as sns\n",
    "%matplotlib inline"
   ]
  },
  {
   "cell_type": "markdown",
   "id": "64712410",
   "metadata": {},
   "source": [
    "### Loading Data and extracting the dependent and independent variables"
   ]
  },
  {
   "cell_type": "code",
   "execution_count": 40,
   "id": "6dab75db",
   "metadata": {
    "scrolled": true
   },
   "outputs": [
    {
     "data": {
      "text/html": [
       "<div>\n",
       "<style scoped>\n",
       "    .dataframe tbody tr th:only-of-type {\n",
       "        vertical-align: middle;\n",
       "    }\n",
       "\n",
       "    .dataframe tbody tr th {\n",
       "        vertical-align: top;\n",
       "    }\n",
       "\n",
       "    .dataframe thead th {\n",
       "        text-align: right;\n",
       "    }\n",
       "</style>\n",
       "<table border=\"1\" class=\"dataframe\">\n",
       "  <thead>\n",
       "    <tr style=\"text-align: right;\">\n",
       "      <th></th>\n",
       "      <th>R&amp;D Spend</th>\n",
       "      <th>Administration</th>\n",
       "      <th>Marketing Spend</th>\n",
       "      <th>Profit</th>\n",
       "    </tr>\n",
       "  </thead>\n",
       "  <tbody>\n",
       "    <tr>\n",
       "      <th>0</th>\n",
       "      <td>165349.20</td>\n",
       "      <td>136897.80</td>\n",
       "      <td>471784.10</td>\n",
       "      <td>192261.83</td>\n",
       "    </tr>\n",
       "    <tr>\n",
       "      <th>1</th>\n",
       "      <td>162597.70</td>\n",
       "      <td>151377.59</td>\n",
       "      <td>443898.53</td>\n",
       "      <td>191792.06</td>\n",
       "    </tr>\n",
       "    <tr>\n",
       "      <th>2</th>\n",
       "      <td>153441.51</td>\n",
       "      <td>101145.55</td>\n",
       "      <td>407934.54</td>\n",
       "      <td>191050.39</td>\n",
       "    </tr>\n",
       "    <tr>\n",
       "      <th>3</th>\n",
       "      <td>144372.41</td>\n",
       "      <td>118671.85</td>\n",
       "      <td>383199.62</td>\n",
       "      <td>182901.99</td>\n",
       "    </tr>\n",
       "    <tr>\n",
       "      <th>4</th>\n",
       "      <td>142107.34</td>\n",
       "      <td>91391.77</td>\n",
       "      <td>366168.42</td>\n",
       "      <td>166187.94</td>\n",
       "    </tr>\n",
       "  </tbody>\n",
       "</table>\n",
       "</div>"
      ],
      "text/plain": [
       "   R&D Spend  Administration  Marketing Spend     Profit\n",
       "0  165349.20       136897.80        471784.10  192261.83\n",
       "1  162597.70       151377.59        443898.53  191792.06\n",
       "2  153441.51       101145.55        407934.54  191050.39\n",
       "3  144372.41       118671.85        383199.62  182901.99\n",
       "4  142107.34        91391.77        366168.42  166187.94"
      ]
     },
     "execution_count": 40,
     "metadata": {},
     "output_type": "execute_result"
    }
   ],
   "source": [
    "df = pd.read_csv('./company_profit_data.csv')\n",
    "X = df.iloc[:,:-1]\n",
    "y = df.iloc[:,3]\n",
    "df.head()"
   ]
  },
  {
   "cell_type": "markdown",
   "id": "1669ed89",
   "metadata": {},
   "source": [
    "### Data visualization: correlation matrix using seaborn"
   ]
  },
  {
   "cell_type": "code",
   "execution_count": 41,
   "id": "c25f9a54",
   "metadata": {},
   "outputs": [
    {
     "data": {
      "text/plain": [
       "<AxesSubplot:>"
      ]
     },
     "execution_count": 41,
     "metadata": {},
     "output_type": "execute_result"
    },
    {
     "data": {
      "image/png": "[encoded data removed]",
      "text/plain": [
       "<Figure size 432x288 with 2 Axes>"
      ]
     },
     "metadata": {
      "needs_background": "light"
     },
     "output_type": "display_data"
    }
   ],
   "source": [
    "sns.heatmap(df.corr())"
   ]
  },
  {
   "cell_type": "markdown",
   "id": "47280048",
   "metadata": {},
   "source": [
    "### splitting the data into training and testing set"
   ]
  },
  {
   "cell_type": "code",
   "execution_count": 42,
   "id": "d64bf25b",
   "metadata": {},
   "outputs": [],
   "source": [
    "from sklearn.model_selection import train_test_split\n",
    "X_train,X_test,y_train,y_test = train_test_split(X,y, test_size=0.2,random_state =0)"
   ]
  },
  {
   "cell_type": "markdown",
   "id": "eb163f50",
   "metadata": {},
   "source": [
    "### Fitting multiple linear regression to the training set"
   ]
  },
  {
   "cell_type": "code",
   "execution_count": 43,
   "id": "8fe98956",
   "metadata": {},
   "outputs": [
    {
     "data": {
      "text/plain": [
       "LinearRegression()"
      ]
     },
     "execution_count": 43,
     "metadata": {},
     "output_type": "execute_result"
    }
   ],
   "source": [
    "from sklearn.linear_model import LinearRegression\n",
    "model = LinearRegression()\n",
    "model.fit(X_train,y_train)"
   ]
  },
  {
   "cell_type": "code",
   "execution_count": 44,
   "id": "9c85fc5d",
   "metadata": {},
   "outputs": [],
   "source": [
    "y_pred = model.predict(X_test)"
   ]
  },
  {
   "cell_type": "code",
   "execution_count": 45,
   "id": "c95b0f35",
   "metadata": {},
   "outputs": [
    {
     "data": {
      "text/plain": [
       "array([ 89277.93054003,  87914.47646729,  94381.65899976, 176043.03107892,\n",
       "        83597.58708608, 110755.97826629, 132203.39808538,  90960.58209961,\n",
       "       164777.58862235,  53593.01784897,  66439.00295311, 150930.24999022,\n",
       "       126400.09021075,  58827.17115615, 176995.47531643,  75502.66876761,\n",
       "       118614.07271066, 164056.81999329, 171382.58712591, 182248.50594104,\n",
       "       119169.40047641,  85157.5364504 , 181354.4095907 ,  83632.76748754,\n",
       "       104492.155517  , 100720.13283149,  54102.82823857,  57069.0105291 ,\n",
       "        68385.07833508, 209487.80143381, 121144.48546932, 111210.74895612,\n",
       "       101672.57715358, 138323.66305576,  63458.96777026, 108343.97745534,\n",
       "       186193.85616801, 171805.08295377, 175006.49706597, 118037.4577271 ,\n",
       "        96916.36211187, 164934.61324361, 107210.48293426,  50564.93145379,\n",
       "       116879.93764961,  58121.84755216, 158779.76381228,  78910.0167059 ,\n",
       "       160090.87630219, 131502.96069503, 185242.27000119, 174971.3167491 ,\n",
       "        93232.71947067,  78527.32288643, 180925.38061998,  84829.75831993,\n",
       "       143265.21863925, 170798.5810873 ,  84550.88947886, 105491.79298712,\n",
       "       142024.46685701,  52715.22459865, 141326.86572433, 139358.48092734,\n",
       "        97781.28446034, 113953.10210961, 126937.2344394 , 152316.87154868,\n",
       "        59051.98237038, 174647.82889815, 124109.07562284, 168547.89516648,\n",
       "        91647.02848248, 156351.45989065,  83794.94044835,  78063.97165886,\n",
       "       120779.81088059,  93565.64593004, 138504.71323342, 143088.45863521,\n",
       "       171510.76909404, 139566.98895483, 106554.06862394, 155124.43708094,\n",
       "       140212.248526  , 110356.98135746,  69161.62073448,  88334.06684026,\n",
       "       139617.61438562, 148660.68675731, 158097.60778286,  58022.3128405 ,\n",
       "        93892.56598982, 113012.67060801,  56743.80653251, 107599.18317463,\n",
       "       147716.82305753, 152325.452171  , 167988.44134297, 118235.66916006,\n",
       "       121129.04043998, 139394.5193149 , 157708.90755314, 122327.74733984,\n",
       "        87276.93945841, 105159.7245032 ,  95520.30184974, 178569.15356871,\n",
       "       181423.91223834, 110015.47426511, 164736.40188457, 167288.26607214,\n",
       "       158183.41353052, 174962.73612678, 169678.81546483,  51791.9542635 ,\n",
       "       176419.71848815, 104238.17031369,  82198.09462578, 139072.74760533,\n",
       "       144638.96930653, 162042.10003438, 170024.61282605, 120816.7073495 ,\n",
       "       159243.97309988, 109699.70896579, 169854.71730294,  60249.83118995,\n",
       "       158519.77227265, 157652.27571211, 174691.58983734, 156475.87832252,\n",
       "       103200.77831463,  85821.67323842, 141087.46756425, 166098.13981593,\n",
       "       121547.77274226, 170953.0466192 , 100872.86718388,  82465.80871704,\n",
       "       178124.67955799, 101277.01244293,  70694.11215373,  90435.45070211,\n",
       "        61434.80919865,  69098.9824832 ,  73144.72557497, 176395.69283649,\n",
       "        90072.49217018, 128705.84414107,  93040.51453254,  88585.67389869,\n",
       "       172318.20162603,  60382.83016276, 169378.49518418, 165932.53456169,\n",
       "       165788.38084228, 102537.49951271, 181773.99987908,  74071.4281147 ,\n",
       "        90754.6481996 , 135275.84136665,  65109.8712218 ,  71962.3217858 ,\n",
       "        60791.26577526, 184650.20998829, 176648.81996911, 159088.66463066,\n",
       "       141541.38025731, 154792.36869226,  58737.07505717,  90986.32389264,\n",
       "       153066.81416894, 168760.69346284,  72671.93565439, 116430.31530999,\n",
       "        80456.23709768, 150010.41185751, 116990.62711961, 129676.15531013,\n",
       "       174896.66567732, 294038.61507917, 145754.44457554, 150828.14106862,\n",
       "        86475.51334733,  70336.30197202,  70465.86874345,  68522.36757356,\n",
       "       120850.17160958,  89863.12606133, 167187.01530581, 124999.73969042,\n",
       "        67396.59561476, 141031.13026096, 118029.73526005, 165379.94531436,\n",
       "       169018.11087499, 146493.232446  , 141578.27671557, 109270.6799844 ])"
      ]
     },
     "execution_count": 45,
     "metadata": {},
     "output_type": "execute_result"
    }
   ],
   "source": [
    "y_pred"
   ]
  },
  {
   "cell_type": "code",
   "execution_count": 46,
   "id": "bec466ae",
   "metadata": {},
   "outputs": [
    {
     "data": {
      "text/plain": [
       "array([0.52737847, 0.8458277 , 0.10664082])"
      ]
     },
     "execution_count": 46,
     "metadata": {},
     "output_type": "execute_result"
    }
   ],
   "source": [
    "model.coef_"
   ]
  },
  {
   "cell_type": "code",
   "execution_count": 47,
   "id": "eae17178",
   "metadata": {},
   "outputs": [
    {
     "data": {
      "text/plain": [
       "-51639.78825350059"
      ]
     },
     "execution_count": 47,
     "metadata": {},
     "output_type": "execute_result"
    }
   ],
   "source": [
    "model.intercept_"
   ]
  },
  {
   "cell_type": "markdown",
   "id": "d4f81423",
   "metadata": {},
   "source": [
    "### calculating R squared"
   ]
  },
  {
   "cell_type": "code",
   "execution_count": 48,
   "id": "64d4b2bf",
   "metadata": {},
   "outputs": [
    {
     "data": {
      "text/plain": [
       "0.9117375294964101"
      ]
     },
     "execution_count": 48,
     "metadata": {},
     "output_type": "execute_result"
    }
   ],
   "source": [
    "from sklearn.metrics import r2_score\n",
    "r2_score(y_test,y_pred)"
   ]
  }
 ],
 "metadata": {
  "kernelspec": {
   "display_name": "Python 3 (ipykernel)",
   "language": "python",
   "name": "python3"
  },
  "language_info": {
   "codemirror_mode": {
    "name": "ipython",
    "version": 3
   },
   "file_extension": ".py",
   "mimetype": "text/x-python",
   "name": "python",
   "nbconvert_exporter": "python",
   "pygments_lexer": "ipython3",
   "version": "3.9.7"
  }
 },
 "nbformat": 4,
 "nbformat_minor": 5
}
